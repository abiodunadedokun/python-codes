{
 "cells": [
  {
   "cell_type": "code",
   "execution_count": 1,
   "id": "a4487f55",
   "metadata": {},
   "outputs": [
    {
     "data": {
      "text/plain": [
       "0"
      ]
     },
     "execution_count": 1,
     "metadata": {},
     "output_type": "execute_result"
    }
   ],
   "source": [
    "import cv2\n",
    "img=cv2.imread('ex6.png')\n",
    "imgCont=img.copy()   # A copy of the image for contour detection\n",
    "imgFinal=img.copy()  # A final copy of the image \n",
    "\n",
    "\n",
    "imggray=cv2.cvtColor(img,cv2.COLOR_BGR2GRAY)    # convert image to grayscale\n",
    "imgcanny=cv2.Canny(imggray,200,240)             #  edge detection \n",
    "contours,_ = cv2.findContours(imgcanny, cv2.RETR_EXTERNAL, cv2.CHAIN_APPROX_SIMPLE) #contour detection\n",
    "\n",
    "rect_d=[] # list to store the dimensions of the bounding boxes\n",
    "min_cont_area=10\n",
    "for c in contours:\n",
    "    #print(cv2.contourArea(c))\n",
    "    if cv2.contourArea(c)>min_cont_area: #contours that meet the minimum area requirement\n",
    "        box_d=cv2.boundingRect(c)\n",
    "        x,y,w,h=box_d\n",
    "        rect_d.append([x,y,w,h]) \n",
    "        cv2.rectangle(imgCont, (x,y),(x+w,y+h), (0, 0, 255),1)\n",
    "\n",
    "\"\"\"Iterate over the list of bounding box dimensions, crop each region of interest (ROI) from the original image, \n",
    "store it in a list, and save each Region of Interest,ROI, as a separate image\"\"\"\n",
    "j=0\n",
    "roi_n=[] #store each bounding box for later use\n",
    "for d in range(0,len(rect_d)):    \n",
    "    x=rect_d[j][0] # x  coordinate\n",
    "    y=rect_d[j][1] # y  coordinate\n",
    "    w=rect_d[j][2] # width \n",
    "    h=rect_d[j][3] # height \n",
    "    roi=imgFinal[y:y+h,x:x+w]\n",
    "    roi_n.append(roi)\n",
    "    cv2.imwrite('Boxed_ROIs_'+str(j) + '.jpg', roi) \n",
    "    \n",
    "    \"\"\"One can uncomment the next line of code if one desires to see each character cropped out\"\"\"\n",
    "    #j+=1  \n",
    "    \n",
    "\n",
    "cv2.imwrite('output.jpg', imgCont)\n",
    "import os\n",
    "os.system('output.jpg')\n"
   ]
  },
  {
   "cell_type": "code",
   "execution_count": null,
   "id": "c74d1140",
   "metadata": {},
   "outputs": [],
   "source": []
  }
 ],
 "metadata": {
  "kernelspec": {
   "display_name": "Python 3 (ipykernel)",
   "language": "python",
   "name": "python3"
  },
  "language_info": {
   "codemirror_mode": {
    "name": "ipython",
    "version": 3
   },
   "file_extension": ".py",
   "mimetype": "text/x-python",
   "name": "python",
   "nbconvert_exporter": "python",
   "pygments_lexer": "ipython3",
   "version": "3.9.13"
  }
 },
 "nbformat": 4,
 "nbformat_minor": 5
}
