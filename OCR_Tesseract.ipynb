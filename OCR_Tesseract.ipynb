{
 "cells": [
  {
   "cell_type": "code",
   "execution_count": 13,
   "id": "6a1e5775",
   "metadata": {},
   "outputs": [
    {
     "name": "stdout",
     "output_type": "stream",
     "text": [
      "CSIS\n",
      "Computer Simulation in ScienceLab Course II, WS 22/23\n",
      "Prof. Dr. F . Knechtli\n",
      "Dr. Roman H ¨ollwieser\n",
      "Homework 6\n",
      "due Nov 23, 2022\n",
      "Exercise 6.1 : Matrix product based on matrix times vector\n",
      "Write a MPI program that does the multiplication of two rectangular matrices\n",
      "C=A\u0001B. Use a block-row distribution for the matrices.\n",
      "(Hint: build the pieces of the row-times-column scalar products which can be\n",
      "computed using the local blocks of the matrices; then make a circular shift of the\n",
      "rows of Band build the next pieces of the scalar products with the local blocks,\n",
      "etc.)\n",
      "As usual add a timing function, including and excluding the time for I/O (reading\n",
      "and writing).\n",
      "Test your program using the matrices contained in the ﬁles A.txt andB.txt avail-\n",
      "able at http://csis.uni-wuppertal.de/courses/lab217.html .\n",
      "In each ﬁle, the ﬁrst two entries indicate the dimensions mandnof the matrix,\n",
      "while the following m\u0002nnumbers are the entries of the matrix, in row-major\n",
      "order (e.g. a00; a01; a02; :::). Let your program write the resulting matrix Cin the\n",
      "same format (stored in a ﬁle C.txt ), you can use the matlab script check.m available\n",
      "on the course’s website to verify the result. What do you see?\n",
      "(Note: make sure you use a number of processes of which the ﬁrst dimension of\n",
      "the matrices is a multiple.)\n",
      "(25 points)\n",
      "1\n"
     ]
    }
   ],
   "source": [
    "import pytesseract\n",
    "from PIL import Image\n",
    "from io import BytesIO\n",
    "from PyPDF2 import PdfReader\n",
    "\n",
    "def extract_text_from_pdf(pdf_path):\n",
    "    text = \"\"\n",
    "    pdf_reader = PdfReader(pdf_path)\n",
    "    num_pages = len(pdf_reader.pages)\n",
    "\n",
    "    for page_num in range(num_pages):\n",
    "        page = pdf_reader.pages[page_num]\n",
    "        page_content = page.extract_text()\n",
    "        text += page_content\n",
    "\n",
    "        if '/XObject' in page['/Resources']:\n",
    "            xObject = page['/Resources']['/XObject'].get_object()\n",
    "            for obj in xObject:\n",
    "                if xObject[obj]['/Subtype'] == '/Image':\n",
    "                    size = (xObject[obj]['/Width'], xObject[obj]['/Height'])\n",
    "                    data = xObject[obj].get_object()\n",
    "                    image = Image.frombytes(\"RGB\", size, data)\n",
    "                    ocr_text = pytesseract.image_to_string(image)\n",
    "                    text += ocr_text\n",
    "\n",
    "    return text\n",
    "\n",
    "if __name__ == \"__main__\":\n",
    "    pdf_file_path = r\"c:/Users/Acer/Desktop/ex.pdf\"\n",
    "    extracted_text = extract_text_from_pdf(pdf_file_path)\n",
    "    print(extracted_text)\n"
   ]
  },
  {
   "cell_type": "code",
   "execution_count": null,
   "id": "e372b9e9",
   "metadata": {},
   "outputs": [],
   "source": []
  }
 ],
 "metadata": {
  "kernelspec": {
   "display_name": "Python 3 (ipykernel)",
   "language": "python",
   "name": "python3"
  },
  "language_info": {
   "codemirror_mode": {
    "name": "ipython",
    "version": 3
   },
   "file_extension": ".py",
   "mimetype": "text/x-python",
   "name": "python",
   "nbconvert_exporter": "python",
   "pygments_lexer": "ipython3",
   "version": "3.9.13"
  }
 },
 "nbformat": 4,
 "nbformat_minor": 5
}
