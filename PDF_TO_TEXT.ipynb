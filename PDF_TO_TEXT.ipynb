{
 "cells": [
  {
   "cell_type": "code",
   "execution_count": 8,
   "id": "ebb325a7",
   "metadata": {},
   "outputs": [
    {
     "name": "stdout",
     "output_type": "stream",
     "text": [
      "Lab Course II, WS 22/23\n",
      "Prof. Dr. F. Knechtli\n",
      "Dr. Roman H ¨ollwieser\n",
      "\n",
      "Homework 6\n",
      "due Nov 23, 2022\n",
      "\n",
      "Exercise 6.1 : Matrix product based on matrix times vector\n",
      "Write a MPI program that does the multiplication of two rectangular matrices\n",
      "C = A · B. Use a block-row distribution for the matrices.\n",
      "(Hint: build the pieces of the row-times-column scalar products which can be\n",
      "computed using the local blocks of the matrices; then make a circular shift of the\n",
      "rows of B and build the next pieces of the scalar products with the local blocks,\n",
      "etc.)\n",
      "As usual add a timing function, including and excluding the time for I/O (reading\n",
      "and writing).\n",
      "\n",
      "Test your program using the matrices contained in the ﬁles A.txt and B.txt avail-\n",
      "able at http://csis.uni-wuppertal.de/courses/lab217.html.\n",
      "\n",
      "In each ﬁle, the ﬁrst two entries indicate the dimensions m and n of the matrix,\n",
      "while the following m × n numbers are the entries of the matrix, in row-major\n",
      "order (e.g. a00, a01, a02, ...). Let your program write the resulting matrix C in the\n",
      "same format (stored in a ﬁle C.txt), you can use the matlab script check.m available\n",
      "on the course’s website to verify the result. What do you see?\n",
      "(Note: make sure you use a number of processes of which the ﬁrst dimension of\n",
      "the matrices is a multiple.)\n",
      "\n",
      "(25 points)\n",
      "\n",
      "1\n",
      "\n",
      "CSISComputer Simulation in Science\f",
      "\n"
     ]
    }
   ],
   "source": [
    "from io import StringIO\n",
    "from pdfminer.pdfinterp import PDFResourceManager, PDFPageInterpreter\n",
    "from pdfminer.converter import TextConverter\n",
    "from pdfminer.layout import LAParams\n",
    "from pdfminer.pdfpage import PDFPage\n",
    "\n",
    "# Create a PDF resource manager object\n",
    "rsrcmgr = PDFResourceManager()\n",
    "\n",
    "# Create a string buffer to hold the converted text\n",
    "output_string = StringIO()\n",
    "\n",
    "# Create a text converter object\n",
    "codec = 'utf-8'\n",
    "laparams = LAParams()\n",
    "device = TextConverter(rsrcmgr, output_string, codec=codec, laparams=laparams)\n",
    "\n",
    "# Open the PDF file and create a PDF page interpreter object\n",
    "with open('ex6.pdf', 'rb') as fp:\n",
    "    interpreter = PDFPageInterpreter(rsrcmgr, device)\n",
    "    for page in PDFPage.get_pages(fp):\n",
    "        interpreter.process_page(page)\n",
    "\n",
    "# Close the text converter object and get the converted text\n",
    "text = output_string.getvalue()\n",
    "device.close()\n",
    "output_string.close()\n",
    "\n",
    "# Print the extracted text\n",
    "print(text)\n"
   ]
  },
  {
   "cell_type": "code",
   "execution_count": null,
   "id": "38cb356e",
   "metadata": {},
   "outputs": [],
   "source": []
  }
 ],
 "metadata": {
  "kernelspec": {
   "display_name": "Python 3 (ipykernel)",
   "language": "python",
   "name": "python3"
  },
  "language_info": {
   "codemirror_mode": {
    "name": "ipython",
    "version": 3
   },
   "file_extension": ".py",
   "mimetype": "text/x-python",
   "name": "python",
   "nbconvert_exporter": "python",
   "pygments_lexer": "ipython3",
   "version": "3.9.13"
  }
 },
 "nbformat": 4,
 "nbformat_minor": 5
}
