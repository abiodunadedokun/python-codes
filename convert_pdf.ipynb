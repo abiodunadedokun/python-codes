{
 "cells": [
  {
   "cell_type": "code",
   "execution_count": null,
   "id": "0dde14ae",
   "metadata": {},
   "outputs": [],
   "source": [
    "import os\n",
    "import argparse\n",
    "from pdftolatex.pdf import PDF, TexFile\n",
    "from pdftolatex.utils import get_file_name\n",
    "\n",
    "def convert(filepath):\n",
    "    \"\"\"Convert PDF at filepath to .tex file\"\"\"\n",
    "    if not os.path.isdir('localstore'):\n",
    "        os.mkdir('localstore')\n",
    "\n",
    "    if os.path.isdir(filepath):\n",
    "        for f in os.listdir(filepath):\n",
    "            convert(f)\n",
    "    \n",
    "    filename = get_file_name(filepath)\n",
    "    pdf = PDF(filepath)\n",
    "    texfile = TexFile(pdf)\n",
    "    texfile.generate_tex_file(filename + \".tex\")\n",
    "\n",
    "def main():   \n",
    "    parser = argparse.ArgumentParser(description=\"Generate a .tex file from a .pdf file.\")\n",
    "    parser.add_argument('--filepath', type=str, help=\"Path to PDF to be converted\")\n",
    "    parser.add_argument('--folderpath', type=str, help=\"Path to folder containing PDFs to be converted. All PDFs in the folder will be converted\")\n",
    "    \n",
    "    args = parser.parse_args()\n",
    "\n",
    "    filepath = args.filepath\n",
    "    folderpath = args.folderpath\n",
    "\n",
    "    if folderpath:\n",
    "        convert(folderpath)\n",
    "    else:\n",
    "        convert(filepath)\n",
    "\n",
    "if __name__ == \"__main__\":\n",
    "    main()\n"
   ]
  }
 ],
 "metadata": {
  "kernelspec": {
   "display_name": "Python 3 (ipykernel)",
   "language": "python",
   "name": "python3"
  },
  "language_info": {
   "codemirror_mode": {
    "name": "ipython",
    "version": 3
   },
   "file_extension": ".py",
   "mimetype": "text/x-python",
   "name": "python",
   "nbconvert_exporter": "python",
   "pygments_lexer": "ipython3",
   "version": "3.9.13"
  }
 },
 "nbformat": 4,
 "nbformat_minor": 5
}
