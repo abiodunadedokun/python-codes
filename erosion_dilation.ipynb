{
 "cells": [
  {
   "cell_type": "code",
   "execution_count": 80,
   "id": "c582cb59",
   "metadata": {},
   "outputs": [],
   "source": [
    "from pdf2image import convert_from_path\n",
    "import cv2\n",
    "from PIL import Image\n",
    "from reportlab.pdfgen import canvas\n",
    "from reportlab.lib.pagesizes import A4\n",
    "\n",
    "def process_pdf(input_pdf, output_pdf, operation='erosion', kernel_size=3):\n",
    "    images = convert_from_path(input_pdf)\n",
    "    processed_images = []\n",
    "\n",
    "    # A4 size and the kernel for erosion or dilation\n",
    "    a4_width, a4_height = A4  # 1 point = 1/72 inch\n",
    "    pixels_per_point = 1  # We can adjust this based on the required DPI, e.g., 300 DPI = 300/72\n",
    "    a4_width_pixels = int(a4_width * pixels_per_point)\n",
    "    a4_height_pixels = int(a4_height * pixels_per_point)\n",
    "    kernel = cv2.getStructuringElement(cv2.MORPH_RECT, (kernel_size, kernel_size))\n",
    "    \n",
    "    for image in images:\n",
    "        # Convert PIL Image to OpenCV format\n",
    "        open_cv_image = cv2.cvtColor(np.array(image), cv2.COLOR_RGB2BGR)\n",
    "        \n",
    "        # Apply erosion or dilation\n",
    "        if operation == 'erosion':\n",
    "            processed_image = cv2.erode(open_cv_image, kernel, iterations=1)\n",
    "        else:  # dilation\n",
    "            processed_image = cv2.dilate(open_cv_image, kernel, iterations=1)\n",
    "        \n",
    "        # Resize image to fit A4\n",
    "        processed_image_resized = cv2.resize(processed_image, (a4_width_pixels, a4_height_pixels), interpolation=cv2.INTER_AREA)\n",
    "        \n",
    "        # Convert back to PIL Image and add to list\n",
    "        processed_images.append(Image.fromarray(cv2.cvtColor(processed_image_resized, cv2.COLOR_BGR2RGB)))\n",
    "\n",
    "    # Create a new PDF with processed and resized images\n",
    "    c = canvas.Canvas(output_pdf, pagesize=A4)\n",
    "    for img in processed_images:\n",
    "        img_path = \"temp_image.jpg\"\n",
    "        img.save(img_path)\n",
    "        c.drawImage(img_path, 0, 0, width=a4_width, height=a4_height)\n",
    "        c.showPage()\n",
    "    c.save()\n",
    "\n",
    "# Specify your input and output PDF file paths\n",
    "input_pdf_path = r\"C:\\Users\\Acer\\Desktop\\test_pdf\\testing.pdf\"\n",
    "output_pdf_path = r\"C:\\Users\\Acer\\Desktop\\out_pdf\\testing_ero.pdf\"\n",
    "process_pdf(input_pdf_path, output_pdf_path, operation='erosion', kernel_size=3)\n"
   ]
  },
  {
   "cell_type": "code",
   "execution_count": null,
   "id": "3efa07e6",
   "metadata": {},
   "outputs": [],
   "source": []
  }
 ],
 "metadata": {
  "kernelspec": {
   "display_name": "Python 3 (ipykernel)",
   "language": "python",
   "name": "python3"
  },
  "language_info": {
   "codemirror_mode": {
    "name": "ipython",
    "version": 3
   },
   "file_extension": ".py",
   "mimetype": "text/x-python",
   "name": "python",
   "nbconvert_exporter": "python",
   "pygments_lexer": "ipython3",
   "version": "3.9.13"
  }
 },
 "nbformat": 4,
 "nbformat_minor": 5
}
