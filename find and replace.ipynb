{
 "cells": [
  {
   "cell_type": "code",
   "execution_count": 13,
   "id": "0f8319a6",
   "metadata": {},
   "outputs": [
    {
     "name": "stdout",
     "output_type": "stream",
     "text": [
      "Enter Unicode string: 132E\n",
      "Modified Unicode output: 132E\n"
     ]
    }
   ],
   "source": [
    "def replace_unicode(input_unicode):\n",
    "    try:\n",
    "        # Split the input string by spaces to get individual Unicode code points\n",
    "        unicodes = input_unicode.strip().split()\n",
    "\n",
    "        # Replace U+0D81 with U+0020\n",
    "        modified_unicodes = ['0020' if code == '0D81' else code for code in unicodes]\n",
    "\n",
    "        # Join the modified Unicode code points to form a string\n",
    "        modified_unicode = ' '.join(modified_unicodes)\n",
    "        \n",
    "        return modified_unicode\n",
    "    except ValueError:\n",
    "        return \"Invalid Unicode input.\"\n",
    "\n",
    "# Test the function\n",
    "if __name__ == \"__main__\":\n",
    "    input_unicode = input(\"Enter Unicode string: \")\n",
    "    output = replace_unicode(input_unicode)\n",
    "    print(\"Modified Unicode output:\", output)\n"
   ]
  },
  {
   "cell_type": "code",
   "execution_count": 12,
   "id": "e0eacf0c",
   "metadata": {},
   "outputs": [
    {
     "name": "stdout",
     "output_type": "stream",
     "text": [
      "Enter Unicode string: 132E\n",
      "Modified Unicode output:\n",
      "132E\n"
     ]
    }
   ],
   "source": [
    "# Test the function\n",
    "if __name__ == \"__main__\":\n",
    "    input_unicode = input(\"Enter Unicode string: \")\n",
    "    output = replace_unicode(input_unicode)\n",
    "    \n",
    "    # Print the modified Unicode output in a single column\n",
    "    print(\"Modified Unicode output:\")\n",
    "    for code in output.split():\n",
    "        print(code)\n"
   ]
  },
  {
   "cell_type": "code",
   "execution_count": 14,
   "id": "bedf5f21",
   "metadata": {},
   "outputs": [
    {
     "name": "stdout",
     "output_type": "stream",
     "text": [
      "Enter Unicode string: 132E\n",
      "Modified Unicode output:\n",
      "002E\n"
     ]
    }
   ],
   "source": [
    "def replace_unicode(input_unicode):\n",
    "    try:\n",
    "        # Split the input string by spaces to get individual Unicode code points\n",
    "        unicodes = input_unicode.strip().split()\n",
    "\n",
    "        # Replace U+0D81 with U+0020\n",
    "        # Replace U+132C with U+002C\n",
    "        # Replace U+132E with U+002E\n",
    "        replacement_map = {'0D81': '0020', '132C': '002C', '132E': '002E'}\n",
    "        modified_unicodes = [replacement_map.get(code, code) for code in unicodes]\n",
    "\n",
    "        # Join the modified Unicode code points to form a string\n",
    "        modified_unicode = ' '.join(modified_unicodes)\n",
    "        \n",
    "        return modified_unicode\n",
    "    except ValueError:\n",
    "        return \"Invalid Unicode input.\"\n",
    "\n",
    "# Test the function\n",
    "if __name__ == \"__main__\":\n",
    "    input_unicode = input(\"Enter Unicode string: \")\n",
    "    output = replace_unicode(input_unicode)\n",
    "    \n",
    "    # Print the modified Unicode output in a single column\n",
    "    print(\"Modified Unicode output:\")\n",
    "    print(output)\n"
   ]
  },
  {
   "cell_type": "code",
   "execution_count": null,
   "id": "b92dbb03",
   "metadata": {
    "scrolled": true
   },
   "outputs": [],
   "source": [
    "def replace_unicode(input_unicode):\n",
    "    try:\n",
    "        # Split the input string by spaces to get individual Unicode code points\n",
    "        unicodes = input_unicode.strip().split()\n",
    "\n",
    "        # Replace U+0D81 with U+0020\n",
    "        # Replace U+132C with U+002C\n",
    "        # Replace U+132E with U+002E\n",
    "        replacement_map = {'0D81': '0020', '132C': '002C', '132E': '002E','1B2B':'002B','1B2D':'002D','1880':'0028','1881':'0029',\n",
    "                          '1C80': '2208','1B2A': '002A','1C3D': '003D','13B7': '0027','17BC': '002D','1380': '201C','1322': '201D'}\n",
    "        modified_unicodes = [replacement_map.get(code, code) for code in unicodes]\n",
    "\n",
    "        # Join the modified Unicode code points to form a string\n",
    "        modified_unicode = ' '.join(modified_unicodes)\n",
    "        \n",
    "        return modified_unicode\n",
    "    except ValueError:\n",
    "        return \"Invalid Unicode input.\"\n",
    "\n",
    "# Test the function\n",
    "if __name__ == \"__main__\":\n",
    "    input_unicode = input(\"Enter Unicode string: \")\n",
    "    output = replace_unicode(input_unicode)\n",
    "    \n",
    "    # Print the modified Unicode output in a single column\n",
    "    print(\"Modified Unicode output:\")\n",
    "    print(output.replace(' ', '\\n'))\n"
   ]
  },
  {
   "cell_type": "code",
   "execution_count": null,
   "id": "f9aa79e3",
   "metadata": {},
   "outputs": [],
   "source": []
  }
 ],
 "metadata": {
  "kernelspec": {
   "display_name": "Python 3 (ipykernel)",
   "language": "python",
   "name": "python3"
  },
  "language_info": {
   "codemirror_mode": {
    "name": "ipython",
    "version": 3
   },
   "file_extension": ".py",
   "mimetype": "text/x-python",
   "name": "python",
   "nbconvert_exporter": "python",
   "pygments_lexer": "ipython3",
   "version": "3.9.13"
  }
 },
 "nbformat": 4,
 "nbformat_minor": 5
}
