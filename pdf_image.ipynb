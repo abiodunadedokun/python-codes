{
 "cells": [
  {
   "cell_type": "code",
   "execution_count": 3,
   "id": "565bde73",
   "metadata": {},
   "outputs": [],
   "source": [
    "from pdf2image import convert_from_path\n",
    "\n",
    "def convert_pdf_to_images(pdf_path, output_folder):\n",
    "    # Convert PDF to images\n",
    "    images = convert_from_path(pdf_path)\n",
    "\n",
    "    # Save the images\n",
    "    for i, image in enumerate(images):\n",
    "        image.save(f\"{output_folder}/page_{i+1}.jpg\", \"JPEG\")\n",
    "\n",
    "# Specify the path to the PDF file\n",
    "pdf_path = rC:\\Users\\Acer\\Desktop\\Katz99.pdf\n",
    "\n",
    "# Specify the output folder where the images will be saved\n",
    "output_folder = r\"C:\\Users\\Acer\\Desktop\\img\"\n",
    "\n",
    "# Convert the PDF to images\n",
    "convert_pdf_to_images(pdf_path, output_folder)\n"
   ]
  },
  {
   "cell_type": "code",
   "execution_count": null,
   "id": "619e957b",
   "metadata": {},
   "outputs": [],
   "source": []
  }
 ],
 "metadata": {
  "kernelspec": {
   "display_name": "Python 3 (ipykernel)",
   "language": "python",
   "name": "python3"
  },
  "language_info": {
   "codemirror_mode": {
    "name": "ipython",
    "version": 3
   },
   "file_extension": ".py",
   "mimetype": "text/x-python",
   "name": "python",
   "nbconvert_exporter": "python",
   "pygments_lexer": "ipython3",
   "version": "3.9.13"
  }
 },
 "nbformat": 4,
 "nbformat_minor": 5
}
