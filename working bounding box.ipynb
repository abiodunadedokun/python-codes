{
 "cells": [
  {
   "cell_type": "code",
   "execution_count": 1,
   "id": "49490ab8",
   "metadata": {},
   "outputs": [
    {
     "ename": "error",
     "evalue": "OpenCV(4.7.0) D:\\a\\opencv-python\\opencv-python\\opencv\\modules\\highgui\\src\\window.cpp:1266: error: (-2:Unspecified error) The function is not implemented. Rebuild the library with Windows, GTK+ 2.x or Cocoa support. If you are on Ubuntu or Debian, install libgtk2.0-dev and pkg-config, then re-run cmake or configure script in function 'cvDestroyAllWindows'\n",
     "output_type": "error",
     "traceback": [
      "\u001b[1;31m---------------------------------------------------------------------------\u001b[0m",
      "\u001b[1;31merror\u001b[0m                                     Traceback (most recent call last)",
      "\u001b[1;32m~\\AppData\\Local\\Temp\\ipykernel_8100\\1072125869.py\u001b[0m in \u001b[0;36m<module>\u001b[1;34m\u001b[0m\n\u001b[0;32m     41\u001b[0m \u001b[1;33m\u001b[0m\u001b[0m\n\u001b[0;32m     42\u001b[0m \u001b[1;31m#cv2.waitKey(0)\u001b[0m\u001b[1;33m\u001b[0m\u001b[1;33m\u001b[0m\u001b[0m\n\u001b[1;32m---> 43\u001b[1;33m \u001b[0mcv2\u001b[0m\u001b[1;33m.\u001b[0m\u001b[0mdestroyAllWindows\u001b[0m\u001b[1;33m(\u001b[0m\u001b[1;33m)\u001b[0m\u001b[1;33m\u001b[0m\u001b[1;33m\u001b[0m\u001b[0m\n\u001b[0m",
      "\u001b[1;31merror\u001b[0m: OpenCV(4.7.0) D:\\a\\opencv-python\\opencv-python\\opencv\\modules\\highgui\\src\\window.cpp:1266: error: (-2:Unspecified error) The function is not implemented. Rebuild the library with Windows, GTK+ 2.x or Cocoa support. If you are on Ubuntu or Debian, install libgtk2.0-dev and pkg-config, then re-run cmake or configure script in function 'cvDestroyAllWindows'\n"
     ]
    }
   ],
   "source": [
    "import cv2\n",
    "\n",
    "\n",
    "img=cv2.imread('p7.jpg')\n",
    "imgCont=img.copy()\n",
    "imgFinal=img.copy()\n",
    "\n",
    "\n",
    "imggray=cv2.cvtColor(img,cv2.COLOR_BGR2GRAY)\n",
    "imgcanny=cv2.Canny(imggray,200,240)\n",
    "contours,_ = cv2.findContours(imgcanny, cv2.RETR_EXTERNAL, cv2.CHAIN_APPROX_SIMPLE)\n",
    "\n",
    "rect_d=[] #store the dimensions of my bounding boxes\n",
    "min_cont_area=10\n",
    "for cnt in contours:\n",
    "    #print(cv2.contourArea(cnt))\n",
    "    if cv2.contourArea(cnt)>min_cont_area: #Limit the contours based on area?  \n",
    "        box_d=cv2.boundingRect(cnt)\n",
    "        x,y,w,h=box_d\n",
    "        rect_d.append([x,y,w,h]) \n",
    "        cv2.rectangle(imgCont, (x,y),(x+w,y+h), (0, 0, 255),1)\n",
    "\n",
    "i=0\n",
    "roi_n=[] #store each bounding box for later\n",
    "for d in range(0,len(rect_d)):    \n",
    "    x=rect_d[i][0] #Find x \n",
    "    y=rect_d[i][1] #Find y \n",
    "    w=rect_d[i][2] #Find width \n",
    "    h=rect_d[i][3] #Find height \n",
    "    roi=imgFinal[y:y+h,x:x+w]\n",
    "    roi_n.append(roi)\n",
    "    cv2.imwrite('Boxed_ROIs_'+str(i) + '.jpg', roi) \n",
    "    #i+=1\n",
    "    \n",
    "#cv2.imshow('Final Result',imgCont)\n",
    "#cv2.imwrite('Final Result.png',imgCont)\n",
    "\n",
    "cv2.imwrite('output.jpg', imgCont)\n",
    "import os\n",
    "os.system('output.jpg')\n",
    "\n",
    "#cv2.waitKey(0)\n",
    "cv2.destroyAllWindows()"
   ]
  },
  {
   "cell_type": "code",
   "execution_count": null,
   "id": "3f481ba1",
   "metadata": {},
   "outputs": [],
   "source": []
  }
 ],
 "metadata": {
  "kernelspec": {
   "display_name": "Python 3 (ipykernel)",
   "language": "python",
   "name": "python3"
  },
  "language_info": {
   "codemirror_mode": {
    "name": "ipython",
    "version": 3
   },
   "file_extension": ".py",
   "mimetype": "text/x-python",
   "name": "python",
   "nbconvert_exporter": "python",
   "pygments_lexer": "ipython3",
   "version": "3.9.13"
  }
 },
 "nbformat": 4,
 "nbformat_minor": 5
}
